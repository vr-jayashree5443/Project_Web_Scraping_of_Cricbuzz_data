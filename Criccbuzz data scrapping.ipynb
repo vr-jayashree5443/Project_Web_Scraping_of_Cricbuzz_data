{
  "nbformat": 4,
  "nbformat_minor": 0,
  "metadata": {
    "colab": {
      "provenance": []
    },
    "kernelspec": {
      "name": "python3",
      "display_name": "Python 3"
    },
    "language_info": {
      "name": "python"
    }
  },
  "cells": [
    {
      "cell_type": "markdown",
      "source": [
        "1. Import all the libraries for Web Scraping, Data Visualization, Analysis\n",
        "2. Scrape the Data\n",
        "3. Data Exploration\n",
        "4. Convert it into the DataFrame\n",
        "5. Perform the Analysis (EDA)\n",
        "\n",
        "Link: https://sofifa.com/players?offset=1\n",
        "1-> page 1\n",
        "if you put2-> page2\n",
        "do for pages[1-10]"
      ],
      "metadata": {
        "id": "JdAD1O0pBDF8"
      }
    },
    {
      "cell_type": "code",
      "source": [
        "import numpy as np\n",
        "import pandas as pd\n",
        "import matplotlib.pyplot as plt\n",
        "import seaborn as sns\n",
        "import re\n",
        "from bs4 import BeautifulSoup\n",
        "import requests"
      ],
      "metadata": {
        "id": "Q8XQLroUDJcC"
      },
      "execution_count": null,
      "outputs": []
    },
    {
      "cell_type": "markdown",
      "source": [
        "----------------PAGE 1-------------------\n"
      ],
      "metadata": {
        "id": "Ip4I6wfoDFgM"
      }
    },
    {
      "cell_type": "code",
      "execution_count": null,
      "metadata": {
        "id": "_Pf09-NLA8Yy"
      },
      "outputs": [],
      "source": [
        "url=\"https://sofifa.com/players?offset=1\"\n",
        "req= requests.get(url)"
      ]
    },
    {
      "cell_type": "code",
      "source": [
        "req\n",
        "# access to the requested resource is forbidden"
      ],
      "metadata": {
        "colab": {
          "base_uri": "https://localhost:8080/"
        },
        "id": "XTC8uwXIHAp-",
        "outputId": "272ccc52-91e5-4c0f-d5a5-843404ec1f97"
      },
      "execution_count": null,
      "outputs": [
        {
          "output_type": "execute_result",
          "data": {
            "text/plain": [
              "<Response [403]>"
            ]
          },
          "metadata": {},
          "execution_count": 3
        }
      ]
    },
    {
      "cell_type": "markdown",
      "source": [
        "Take another source\n",
        "\n",
        "Link: https://www.cricbuzz.com/cricket-stats/icc-rankings/men/batting\n",
        "\n",
        "page1: batting(Test, ODI, T20 players)\n",
        "(each page has so)\n",
        "\n",
        "page2: bowling\n",
        "\n",
        "page3: all-rounder\n",
        "\n",
        "do for all pages"
      ],
      "metadata": {
        "id": "KjLnHGhXHxEE"
      }
    },
    {
      "cell_type": "code",
      "source": [
        "url=\"https://www.cricbuzz.com/cricket-stats/icc-rankings/men/batting\"\n",
        "req= requests.get(url)"
      ],
      "metadata": {
        "id": "pXPpzeXkD9yt"
      },
      "execution_count": null,
      "outputs": []
    },
    {
      "cell_type": "code",
      "source": [
        "req"
      ],
      "metadata": {
        "colab": {
          "base_uri": "https://localhost:8080/"
        },
        "id": "Qc6mMN-hEAeh",
        "outputId": "03aa2723-09ff-418d-d7fa-0dda568eb22d"
      },
      "execution_count": null,
      "outputs": [
        {
          "output_type": "execute_result",
          "data": {
            "text/plain": [
              "<Response [200]>"
            ]
          },
          "metadata": {},
          "execution_count": 50
        }
      ]
    },
    {
      "cell_type": "code",
      "source": [
        "#got"
      ],
      "metadata": {
        "id": "JRlM9uvMEKDr"
      },
      "execution_count": null,
      "outputs": []
    },
    {
      "cell_type": "code",
      "source": [
        "soup=BeautifulSoup(req.content)"
      ],
      "metadata": {
        "id": "6l0nvjS4ELfX"
      },
      "execution_count": null,
      "outputs": []
    },
    {
      "cell_type": "code",
      "source": [
        "# soup.find_all('div')"
      ],
      "metadata": {
        "id": "Jluvf0LQGxn_"
      },
      "execution_count": null,
      "outputs": []
    },
    {
      "cell_type": "code",
      "source": [
        "arr=[]\n",
        "for i in soup.find_all('div'):\n",
        "  arr.append(i)"
      ],
      "metadata": {
        "id": "Bc15_jxYF5vo"
      },
      "execution_count": null,
      "outputs": []
    },
    {
      "cell_type": "code",
      "source": [
        "arr[0]"
      ],
      "metadata": {
        "colab": {
          "base_uri": "https://localhost:8080/"
        },
        "id": "qdJWAA3NF8r3",
        "outputId": "0360893a-3b36-4fe1-88c8-99c683047abc"
      },
      "execution_count": null,
      "outputs": [
        {
          "output_type": "execute_result",
          "data": {
            "text/plain": [
              "<div class=\"container\"><div class=\"ad-unit text-center center-block\" id=\"leaderboard\" style=\"min-height:90px;margin-bottom:10px;\"></div><div class=\"ad-unit\" id=\"countdown\" style=\"margin:-10px 15px 0px;float:right;position:absolute;\"></div><div class=\"toi-branding toi-referral\"></div><nav class=\"cb-nav cb-col cb-col-100\" id=\"cb-main-menu\" ng-controller=\"CBPlusAuth\" ng-init=\"initialise_cb_screen_name()\"><a class=\"cb-hm-text\" href=\"/\" target=\"_self\"><img alt=\"Cricbuzz Logo\" height=\"40\" id=\"cb-logo-main-menu\" itemprop=\"image\" src=\"https://static.cricbuzz.com/images/cb_logo.svg\" style=\"bottom: 4px; position: relative; vertical-align:middle;\" title=\"Cricbuzz Logo\" width=\"101\"/></a><a class=\"cb-hm-mnu-itm\" href=\"/cricket-match/live-scores\" target=\"_self\" title=\"Live Cricket Score\">Live Scores</a><a class=\"cb-hm-mnu-itm\" href=\"/cricket-schedule/upcoming-series/international\" target=\"_self\" title=\"Cricket Schedule\">Schedule</a><a class=\"cb-hm-mnu-itm\" href=\"/cricket-scorecard-archives\" target=\"_self\" title=\"Cricket Scorecard Archives\">Archives</a><div class=\"cb-subnav cb-hm-mnu-itm feature-button cursor-pointer\" id=\"newsDropDown\" title=\"Cricket News\"><a class=\"text-white\" href=\"/cricket-news\" target=\"_self\">News</a><span class=\"cb-caret-down\"></span><nav class=\"cb-sub-navigation\"><a class=\"cb-subnav-item\" href=\"/cricket-news\" target=\"_self\" title=\"Latest Cricket News\">All Stories</a> <a class=\"cb-subnav-item\" href=\"/cricket-news/editorial/cb-plus\" target=\"_self\" title=\"Premium Articles\"> Premium Editorials </a><a class=\"cb-subnav-item\" href=\"/cricket-news/latest-news\" target=\"_self\" title=\"Latest Cricket News\">Latest News</a><a class=\"cb-subnav-item\" href=\"/cricket-news/info/\" target=\"_self\" title=\"Latest Cricket Topics\">Topics</a><a class=\"cb-subnav-item\" href=\"/cricket-news/editorial/spotlight\" target=\"_self\" title=\"Cricket Editorials and Specials\">Spotlight</a><a class=\"cb-subnav-item\" href=\"/cricket-news/editorial/editorial-list\" target=\"_self\" title=\"Latest Cricket Opinions &amp; Editorials\">Opinions</a><a class=\"cb-subnav-item\" href=\"/cricket-news/editorial/specials\" target=\"_self\" title=\"Latest Cricket Specials\">Specials</a><a class=\"cb-subnav-item\" href=\"/cricket-news/editorial/stats-analysis\" target=\"_self\" title=\"Latest Cricket Stats &amp; Analysis\">Stats &amp; Analysis</a><a class=\"cb-subnav-item\" href=\"/cricket-news/editorial/interviews\" target=\"_self\" title=\"Latest Cricket Player Interviews\">Interviews</a><a class=\"cb-subnav-item\" href=\"/cricket-news/editorial/live-blogs\" target=\"_self\" title=\"Latest Cricket Match live blogs\">Live Blogs</a><a class=\"cb-subnav-item\" href=\"/cricket-news/experts/harsha-bhogle/170\" target=\"_self\" title=\"Articles and Videos by Harsha Bhogle\">Harsha Bhogle</a></nav></div><div class=\"cb-subnav cb-hm-mnu-itm feature-button cursor-pointer\" id=\"seriesDropDown\" title=\"Cricket Series\"><a class=\"text-white\" href=\"/cricket-schedule/series\" target=\"_self\">Series</a><span class=\"cb-caret-down\"></span> <nav class=\"cb-sub-navigation\"> <a class=\"cb-subnav-item\" href=\"/cricket-series/7607/indian-premier-league-2024\" target=\"_self\" title=\"Indian Premier League 2024\">Indian Premier League 2024</a> <a class=\"cb-subnav-item\" href=\"/cricket-series/7476/icc-mens-t20-world-cup-2024\" target=\"_self\" title=\"ICC Mens T20 World Cup 2024\">ICC Mens T20 World Cup 2024</a> <a class=\"cb-subnav-item\" href=\"/cricket-series/7518/womens-premier-league-2024\" target=\"_self\" title=\"Womens Premier League 2024\">Womens Premier League 2024</a> <a class=\"cb-subnav-item\" href=\"/cricket-series/7679/new-zealand-tour-of-pakistan-2024\" target=\"_self\" title=\"New Zealand tour of Pakistan, 2024\">New Zealand tour of Pakistan, 2024</a> <a class=\"cb-subnav-item\" href=\"/cricket-series/7534/sri-lanka-tour-of-bangladesh-2024\" target=\"_self\" title=\"Sri Lanka tour of Bangladesh, 2024\">Sri Lanka tour of Bangladesh, 2024</a> <a class=\"cb-subnav-item\" href=\"/cricket-series/7700/bangladesh-tour-of-usa-2024\" target=\"_self\" title=\"Bangladesh tour of USA, 2024\">Bangladesh tour of USA, 2024</a> <a class=\"cb-text-link cb-subnav-item\" href=\"/cricket-schedule/series\" target=\"_self\">All Series »</a></nav></div><div class=\"cb-subnav cb-hm-mnu-itm feature-button cursor-pointer\" id=\"teamDropDown\" title=\"Cricket Teams\"><a class=\"text-white\" href=\"/cricket-team\" target=\"_self\">Teams</a><span class=\"cb-caret-down\"></span><nav class=\"cb-sub-navigation cb-sub-lg\"> <div class=\"cb-sub-lg-outer\"> <div class=\"cb-sub-lg-sec\"> <h4 class=\"cb-sub-lg-sec-head\">Test Teams</h4> <a class=\"cb-subnav-item cb-sub-lg-sec-item\" href=\"/cricket-team/india/2\" target=\"_self\" title=\"India Cricket Team\">India</a> <a class=\"cb-subnav-item cb-sub-lg-sec-item\" href=\"/cricket-team/afghanistan/96\" target=\"_self\" title=\"Afghanistan Cricket Team\">Afghanistan</a> <a class=\"cb-subnav-item cb-sub-lg-sec-item\" href=\"/cricket-team/ireland/27\" target=\"_self\" title=\"Ireland Cricket Team\">Ireland</a> <a class=\"cb-subnav-item cb-sub-lg-sec-item\" href=\"/cricket-team/pakistan/3\" target=\"_self\" title=\"Pakistan Cricket Team\">Pakistan</a> <a class=\"cb-subnav-item cb-sub-lg-sec-item\" href=\"/cricket-team/australia/4\" target=\"_self\" title=\"Australia Cricket Team\">Australia</a> <a class=\"cb-subnav-item cb-sub-lg-sec-item\" href=\"/cricket-team/sri-lanka/5\" target=\"_self\" title=\"Sri Lanka Cricket Team\">Sri Lanka</a> <a class=\"cb-subnav-item cb-sub-lg-sec-item\" href=\"/cricket-team/bangladesh/6\" target=\"_self\" title=\"Bangladesh Cricket Team\">Bangladesh</a> <a class=\"cb-subnav-item cb-sub-lg-sec-item\" href=\"/cricket-team/england/9\" target=\"_self\" title=\"England Cricket Team\">England</a> <a class=\"cb-subnav-item cb-sub-lg-sec-item\" href=\"/cricket-team/west-indies/10\" target=\"_self\" title=\"West Indies Cricket Team\">West Indies</a> <a class=\"cb-subnav-item cb-sub-lg-sec-item\" href=\"/cricket-team/south-africa/11\" target=\"_self\" title=\"South Africa Cricket Team\">South Africa</a> <a class=\"cb-subnav-item cb-sub-lg-sec-item\" href=\"/cricket-team/zimbabwe/12\" target=\"_self\" title=\"Zimbabwe Cricket Team\">Zimbabwe</a> <a class=\"cb-subnav-item cb-sub-lg-sec-item\" href=\"/cricket-team/new-zealand/13\" target=\"_self\" title=\"New Zealand Cricket Team\">New Zealand</a> </div> <div class=\"cb-sub-lg-sec\"> <h4 class=\"cb-sub-lg-sec-head\">Associate</h4> <a class=\"cb-subnav-item cb-sub-lg-sec-item\" href=\"/cricket-team/malaysia/71\" target=\"_self\" title=\"Malaysia Cricket Team\">Malaysia</a> <a class=\"cb-subnav-item cb-sub-lg-sec-item\" href=\"/cricket-team/nepal/72\" target=\"_self\" title=\"Nepal Cricket Team\">Nepal</a> <a class=\"cb-subnav-item cb-sub-lg-sec-item\" href=\"/cricket-team/germany/77\" target=\"_self\" title=\"Germany Cricket Team\">Germany</a> <a class=\"cb-subnav-item cb-sub-lg-sec-item\" href=\"/cricket-team/namibia/161\" target=\"_self\" title=\"Namibia Cricket Team\">Namibia</a> <a class=\"cb-subnav-item cb-sub-lg-sec-item\" href=\"/cricket-team/denmark/185\" target=\"_self\" title=\"Denmark Cricket Team\">Denmark</a> <a class=\"cb-subnav-item cb-sub-lg-sec-item\" href=\"/cricket-team/singapore/190\" target=\"_self\" title=\"Singapore Cricket Team\">Singapore</a> <a class=\"cb-subnav-item cb-sub-lg-sec-item\" href=\"/cricket-team/papua-new-guinea/287\" target=\"_self\" title=\"Papua New Guinea Cricket Team\">Papua New Guinea</a> <a class=\"cb-subnav-item cb-sub-lg-sec-item\" href=\"/cricket-team/kuwait/298\" target=\"_self\" title=\"Kuwait Cricket Team\">Kuwait</a> <a class=\"cb-subnav-item cb-sub-lg-sec-item\" href=\"/cricket-team/vanuatu/300\" target=\"_self\" title=\"Vanuatu Cricket Team\">Vanuatu</a> <a class=\"cb-subnav-item cb-sub-lg-sec-item\" href=\"/cricket-team/jersey/303\" target=\"_self\" title=\"Jersey Cricket Team\">Jersey</a> <a class=\"cb-subnav-item cb-sub-lg-sec-item\" href=\"/cricket-team/oman/304\" target=\"_self\" title=\"Oman Cricket Team\">Oman</a> <a class=\"cb-subnav-item cb-sub-lg-sec-item\" href=\"/cricket-team/fiji/343\" target=\"_self\" title=\"Fiji Cricket Team\">Fiji</a> </div> </div> <a class=\"cb-sub-lg-more\" href=\"/cricket-team\" target=\"_self\">More...</a></nav></div> <div class=\"cb-subnav cb-hm-mnu-itm feature-button cursor-pointer\" id=\"videosDropDown\" title=\"Cricket Videos\"><a class=\"text-white\" href=\"/cricket-videos\" target=\"_self\">Videos</a><span class=\"cb-caret-down\"></span> <nav class=\"cb-sub-navigation\"> <a class=\"cb-subnav-item\" href=\"/cricket-videos\" target=\"_self\" title=\"All Cricket Videos\">All Videos</a> <a class=\"cb-subnav-item\" href=\"/cricket-videos/categories\" target=\"_self\" title=\"Cricket Videos Categories\">Categories</a> <a class=\"cb-subnav-item\" href=\"/cricket-videos/playlists\" target=\"_self\" title=\"Cricket Videos Playlists\">Playlists</a> </nav> </div> <div class=\"cb-subnav cb-hm-mnu-itm feature-button cursor-pointer\" id=\"rankingDropDown\" title=\"ICC Rankings\"><a class=\"text-white\" href=\"/cricket-stats/icc-rankings/men/batting\">Rankings</a><span class=\"cb-caret-down\"></span><nav class=\"cb-sub-navigation\"><a class=\"cb-subnav-item\" href=\"/cricket-stats/icc-rankings/men/batting\" target=\"_self\" title=\"ICC Rankings Men\">ICC Rankings - Men</a><a class=\"cb-subnav-item\" href=\"/cricket-stats/icc-rankings/women/batting\" target=\"_self\" title=\"ICC Rankings Women\">ICC Rankings - Women</a></nav></div> <div class=\"cb-subnav cb-hm-mnu-itm feature-button cursor-pointer\">More<span class=\"cb-caret-down\"></span><nav class=\"cb-sub-navigation\" style=\"right:0px;\"> <a class=\"cb-subnav-item\" href=\"/cricket-stats/points-table/test/icc-world-test-championship\" target=\"_self\" title=\"World Test Championship\">World Test Championship</a> <a class=\"cb-subnav-item\" href=\"/cricket-stats/points-table/odi/icc-men-cricket-world-cup-super-league\" target=\"_self\" title=\"World Cup Super League\">World Cup Super League</a> <a class=\"cb-subnav-item\" href=\"/cricket-photo-gallery\" target=\"_self\" title=\"Photo Gallery\">Photos</a> <a class=\"cb-subnav-item\" href=\"/mobileapps\" target=\"_self\" title=\"Mobile Apps\">Mobile Apps</a><a class=\"cb-subnav-item\" href=\"/careers\" target=\"_self\" title=\"Careers\">Careers</a><a class=\"cb-subnav-item\" href=\"/info/contact\" target=\"_self\" title=\"Contact Us\">Contact Us</a></nav> </div> <a class=\"cb-plus-menu-button cb-text-gray\" href=\"/cb-plus/premium-content/home\" id=\"cricbuzz-plus-main-menu\" ng-class=\"premiumScreenName != defaultScreenName ? 'cb-font-12' : ''\" ng-cloak=\"\" ng-if=\"premiumScreenName\">{{premiumScreenName}} </a> <div ng-controller=\"SearchCtrl\" ng-init=\" init(-1, 61, 76, 350, '', 'nav')\"> <div class=\"cb-nav-search-wrap\" id=\"main-menu_search\" ng-style=\"{width: inputFocus?'800px':'30px'}\"> <div class=\"cb-col-100 cb-col cb-srch-bar cb-srch-bar-nav\"> <form class=\"cb-search-form\" name=\"form\" ng-cloak=\"\" ng-submit=\"search_results(false, false)\"> <div class=\"cb-search-input-nav\"> <div class=\"cb-search-outer\"> <div class=\"cb-search-input-wrap\" ng-blur=\"loseInputFocus()\" ng-click=\"onInputFocus()\"> <input autocomplete=\"off\" class=\"js-cb-search-input cb-search-input-elem cb-search-input-elem-nav form-control cb-car-inp cb-srch-bg\" id=\"search_bar_menu\" maxlength=\"500\" name=\"search\" ng-blur=\"loseInputFocus()\" ng-change=\"suggest_search()\" ng-class=\"{'cb-search-input-elem-error-nav':errorText, 'cb-srch-high-zIndex':dropdownVisible, 'cb-srch-input-focus':inputFocus}\" ng-focus=\"onInputFocus()\" ng-keydown=\"onKeyPress($event)\" ng-model=\"searchText\" ng-model-options=\"{ debounce: 400 }\" placeholder=\"{{errorText?errorText:(source == 'nav' &amp;&amp; inputFocus) || source == 'search-page'?'Search for Player, Series, Team, News or Video. eg: Windies tour of India': ''}}\" type=\"text\" value=\"suggest.title\"/> <span class=\"cb-ico cb-search-input-icon cb-search-input-icon-nav\"></span> <span class=\"cb-srch-cross-new cb-srch-cross-new-nav cb-font-14\" id=\"cb-search-menubar-clear\" ng-class=\"{'cb-srch-cross-focus': inputFocus, 'cb-srch-high-zIndex':dropdownVisible, 'disp-none':clearVisible}\" ng-click=\"reset_form('view');\" ng-show=\"searchText.length &gt; 0\">✖</span> </div> <div class=\"cb-srch-backdrop\" ng-click=\"hideDropdown()\" ng-show=\"dropdownVisible\"></div> <div class=\"cb-main-srch-box-wrap\" ng-show=\"dropdownVisible &amp;&amp; searchText.length &gt;= 2 &amp;&amp; search_ftr_suggst.length &gt; 0\"> <ul class=\"cb-main-srch-box\" id=\"searchBox_nav\"> <li class=\"cb-main-srch-box-item {{selected_suggestions == $index?'highlight':''}}\" id=\"search_item_{{$index}}\" ng-class=\"{'cb-main-srch-box-item-border':suggest.hasBorder, 'cb-big': suggest.isSearchItem}\" ng-click=\"search_results()\" ng-mouseover=\"highlight_item_mouse_hover($index)\" ng-repeat=\"suggest in search_ftr_suggst track by $index\" ng-show=\"suggestions &amp;&amp; searchText.length &gt; 0 &amp;&amp; inputFocus\"> <a class=\"text-black cb-srch-suggest-link\" ng-if=\"!suggest.isSearchItem\"> <div class=\"cb-srch-suggest-img\" ng-class=\"{'cb-srch-suggest-img-teams': suggest.type == 'Teams'}\"> <div class=\"\" ng-if=\"suggest.imgUrl\"> <img class=\"cb-srch-suggest-icon-img\" ng-src=\"{{suggest.imgUrl}}\"/> </div> <div class=\"cb-srch-sugggest-icon {{suggest.iconClass}} cb-ico\" ng-if=\"!suggest.imgUrl\"> </div> </div> <div class=\"cb-srch-suggest-content\"> <p class=\"cb-srch-suggest-content-title\" ng-bind-html=\"suggest | searchfilter:oldText\"></p> <p class=\"cb-srch-suggest-content-subtitle cb-font-12 cb-text-gray\">{{suggest.tag}}</p> </div> </a> <a class=\"text-black cb-srch-suggest-link\" href=\"javascript:void(0)\" ng-if=\"suggest.isSearchItem\"> <div class=\"cb-srch-suggest-img\"> <div class=\"cb-srch-sugggest-icon cb-srch-sugggest-icon-search cb-ico\"> </div> </div> <div class=\"cb-srch-suggest-content cb-center-text\"> <p class=\"cb-srch-suggest-content-title\">Search for “<span ng-bind=\"searchText\"></span>”</p> </div> </a> </li> </ul> </div> </div> </div> <div class=\"cb-search-submit-nav\" ng-class=\"{'cb-search-submit-input-focus': inputFocus, 'cb-search-submit-error': errorText}\"> <a class=\"text-white cb-srch-bttn\" ng-class=\"{'cb-srch-high-zIndex':dropdownVisible}\" ng-click=\"search_results(false, true)\">SEARCH</a> </div> <input name=\"anticsrf\" type=\"hidden\" value=\"bowled\"/> </form></div><style>.cb-srch-ico{margin: 0}\n",
              ".cb-user-itm{position:absolute; top:0; right:5px}</style> </div> </div> <div class=\"cb-user-itm cb-subnav\"> <a href=\"/premium-subscription/user/account-info\" id=\"cb-plus-user-icon\"><span class=\"cb-plus-ico cb-user-icon\"></span></a> <nav class=\"cb-sub-navigation\" id=\"cb-plus-dropdown\" style=\"right:0px;\"> <a class=\"cb-subnav-item\" href=\"/premium-subscription/user/account-info\" target=\"_self\" title=\"My Account\">My Account</a> <a class=\"cb-subnav-item\" ng-click=\"sign_out_user(false)\" target=\"_self\" title=\"Sign Out\">Sign Out</a></nav> </div></nav><style>.cb-text-link{color:#1866db;}\n",
              ".cb-plus-menu-button{padding: 8px 10px; background: #fff; border-radius: 18px; border: 0;width: 104px;height:14px;display: inline-block; text-align: center; line-height:1; }\n",
              ".cb-plus-menu-button:hover,.cb-plus-menu-button:focus, .cb-plus-menu-button:active{background: #fff;}</style></div>"
            ]
          },
          "metadata": {},
          "execution_count": 54
        }
      ]
    },
    {
      "cell_type": "code",
      "source": [
        "#no need this, delete\n",
        "arr.pop(0)\n",
        "arr[0]"
      ],
      "metadata": {
        "colab": {
          "base_uri": "https://localhost:8080/"
        },
        "id": "vqaGr1ogGeA7",
        "outputId": "1f65cd6c-9eb8-4b21-89f6-f2c587f3419d"
      },
      "execution_count": null,
      "outputs": [
        {
          "output_type": "execute_result",
          "data": {
            "text/plain": [
              "<div class=\"ad-unit text-center center-block\" id=\"leaderboard\" style=\"min-height:90px;margin-bottom:10px;\"></div>"
            ]
          },
          "metadata": {},
          "execution_count": 55
        }
      ]
    },
    {
      "cell_type": "code",
      "source": [
        "arr[15]"
      ],
      "metadata": {
        "colab": {
          "base_uri": "https://localhost:8080/"
        },
        "id": "Hfbcu6UIKrYu",
        "outputId": "3b63ebd1-4b88-4b45-ac8c-2e0b33710969"
      },
      "execution_count": null,
      "outputs": [
        {
          "output_type": "execute_result",
          "data": {
            "text/plain": [
              "<div class=\"cb-search-input-nav\"> <div class=\"cb-search-outer\"> <div class=\"cb-search-input-wrap\" ng-blur=\"loseInputFocus()\" ng-click=\"onInputFocus()\"> <input autocomplete=\"off\" class=\"js-cb-search-input cb-search-input-elem cb-search-input-elem-nav form-control cb-car-inp cb-srch-bg\" id=\"search_bar_menu\" maxlength=\"500\" name=\"search\" ng-blur=\"loseInputFocus()\" ng-change=\"suggest_search()\" ng-class=\"{'cb-search-input-elem-error-nav':errorText, 'cb-srch-high-zIndex':dropdownVisible, 'cb-srch-input-focus':inputFocus}\" ng-focus=\"onInputFocus()\" ng-keydown=\"onKeyPress($event)\" ng-model=\"searchText\" ng-model-options=\"{ debounce: 400 }\" placeholder=\"{{errorText?errorText:(source == 'nav' &amp;&amp; inputFocus) || source == 'search-page'?'Search for Player, Series, Team, News or Video. eg: Windies tour of India': ''}}\" type=\"text\" value=\"suggest.title\"/> <span class=\"cb-ico cb-search-input-icon cb-search-input-icon-nav\"></span> <span class=\"cb-srch-cross-new cb-srch-cross-new-nav cb-font-14\" id=\"cb-search-menubar-clear\" ng-class=\"{'cb-srch-cross-focus': inputFocus, 'cb-srch-high-zIndex':dropdownVisible, 'disp-none':clearVisible}\" ng-click=\"reset_form('view');\" ng-show=\"searchText.length &gt; 0\">✖</span> </div> <div class=\"cb-srch-backdrop\" ng-click=\"hideDropdown()\" ng-show=\"dropdownVisible\"></div> <div class=\"cb-main-srch-box-wrap\" ng-show=\"dropdownVisible &amp;&amp; searchText.length &gt;= 2 &amp;&amp; search_ftr_suggst.length &gt; 0\"> <ul class=\"cb-main-srch-box\" id=\"searchBox_nav\"> <li class=\"cb-main-srch-box-item {{selected_suggestions == $index?'highlight':''}}\" id=\"search_item_{{$index}}\" ng-class=\"{'cb-main-srch-box-item-border':suggest.hasBorder, 'cb-big': suggest.isSearchItem}\" ng-click=\"search_results()\" ng-mouseover=\"highlight_item_mouse_hover($index)\" ng-repeat=\"suggest in search_ftr_suggst track by $index\" ng-show=\"suggestions &amp;&amp; searchText.length &gt; 0 &amp;&amp; inputFocus\"> <a class=\"text-black cb-srch-suggest-link\" ng-if=\"!suggest.isSearchItem\"> <div class=\"cb-srch-suggest-img\" ng-class=\"{'cb-srch-suggest-img-teams': suggest.type == 'Teams'}\"> <div class=\"\" ng-if=\"suggest.imgUrl\"> <img class=\"cb-srch-suggest-icon-img\" ng-src=\"{{suggest.imgUrl}}\"/> </div> <div class=\"cb-srch-sugggest-icon {{suggest.iconClass}} cb-ico\" ng-if=\"!suggest.imgUrl\"> </div> </div> <div class=\"cb-srch-suggest-content\"> <p class=\"cb-srch-suggest-content-title\" ng-bind-html=\"suggest | searchfilter:oldText\"></p> <p class=\"cb-srch-suggest-content-subtitle cb-font-12 cb-text-gray\">{{suggest.tag}}</p> </div> </a> <a class=\"text-black cb-srch-suggest-link\" href=\"javascript:void(0)\" ng-if=\"suggest.isSearchItem\"> <div class=\"cb-srch-suggest-img\"> <div class=\"cb-srch-sugggest-icon cb-srch-sugggest-icon-search cb-ico\"> </div> </div> <div class=\"cb-srch-suggest-content cb-center-text\"> <p class=\"cb-srch-suggest-content-title\">Search for “<span ng-bind=\"searchText\"></span>”</p> </div> </a> </li> </ul> </div> </div> </div>"
            ]
          },
          "metadata": {},
          "execution_count": 56
        }
      ]
    },
    {
      "cell_type": "code",
      "source": [
        "# arr[29]"
      ],
      "metadata": {
        "id": "aPTcFplAK6_2"
      },
      "execution_count": null,
      "outputs": []
    },
    {
      "cell_type": "markdown",
      "source": [
        "this div has set of all Pge1> ODI>Players\n",
        "arr[29]\n",
        "assume this as webpage content, search on this"
      ],
      "metadata": {
        "id": "riO-6mZrMxj3"
      }
    },
    {
      "cell_type": "code",
      "source": [
        "#this div has set of all Pge1> ODI>Players\n",
        "# arr[29]\n",
        "#assume this as webpage content, search on this\n",
        "# arr[29].find_all('div')\n",
        "arr_inner=[]\n",
        "for i in arr[29].find_all('div'):\n",
        "  arr_inner.append(i)\n"
      ],
      "metadata": {
        "id": "BqbNoqZxLJoA"
      },
      "execution_count": null,
      "outputs": []
    },
    {
      "cell_type": "code",
      "source": [
        "arr_inner[0]"
      ],
      "metadata": {
        "colab": {
          "base_uri": "https://localhost:8080/"
        },
        "id": "_RHvOeu1NA0d",
        "outputId": "d068f928-fc00-46c2-ddd6-6b6800ffa746"
      },
      "execution_count": null,
      "outputs": [
        {
          "output_type": "execute_result",
          "data": {
            "text/plain": [
              "<div id=\"fb-root\"></div>"
            ]
          },
          "metadata": {},
          "execution_count": 59
        }
      ]
    },
    {
      "cell_type": "code",
      "source": [
        "arr_inner[10]"
      ],
      "metadata": {
        "colab": {
          "base_uri": "https://localhost:8080/"
        },
        "id": "pnpD4RYGNyDo",
        "outputId": "e9b56ba9-1eeb-423b-cdeb-bbed0347bd83"
      },
      "execution_count": null,
      "outputs": [
        {
          "output_type": "execute_result",
          "data": {
            "text/plain": [
              "<div class=\"cb-scg-srs-nm\">USA v Canada, 2024</div>"
            ]
          },
          "metadata": {},
          "execution_count": 60
        }
      ]
    },
    {
      "cell_type": "code",
      "source": [
        "arr_inner[102]"
      ],
      "metadata": {
        "colab": {
          "base_uri": "https://localhost:8080/"
        },
        "id": "zMsICfwCRCTt",
        "outputId": "88b215e2-9971-40fd-96c2-492dc3ecf8a9"
      },
      "execution_count": null,
      "outputs": [
        {
          "output_type": "execute_result",
          "data": {
            "text/plain": [
              "<div class=\"cb-col cb-col-50\"><span class=\"cb-ico\" style=\"position:absolute;\"></span>    –</div>"
            ]
          },
          "metadata": {},
          "execution_count": 61
        }
      ]
    },
    {
      "cell_type": "code",
      "source": [
        "arr_inner[89]"
      ],
      "metadata": {
        "colab": {
          "base_uri": "https://localhost:8080/"
        },
        "id": "MrVfNvTpN1nU",
        "outputId": "51e0ce0e-8b0c-4e28-cde1-48275dc1c074"
      },
      "execution_count": null,
      "outputs": [
        {
          "output_type": "execute_result",
          "data": {
            "text/plain": [
              "<div class=\"cb-col cb-col-100 cb-font-14 cb-lst-itm text-center\"> <div class=\"cb-col cb-col-16 cb-rank-tbl cb-font-16\">1</div> <div class=\"cb-col cb-col-50 cb-lst-itm-sm text-left\"> <div class=\"cb-col cb-col-33\"> <div class=\"cb-col cb-col-50\"><span class=\"cb-ico\" style=\"position:absolute;\"></span>    –</div> <div class=\"cb-col cb-col-50\"><img alt=\"Kane Williamson\" class=\"img-responsive cb-rank-plyr-img\" src=\"https://static.cricbuzz.com/a/img/v1/50x50/i1/c351812/kane-williamson.jpg\" title=\"Kane Williamson\"/></div> </div> <div class=\"cb-col cb-col-67 cb-rank-plyr\"> <a class=\"text-hvr-underline text-bold cb-font-16\" href=\"/profiles/6326/kane-williamson\" title=\"Kane Williamson's Profile\">Kane Williamson</a> <div class=\"cb-font-12 text-gray\">NEW ZEALAND</div> </div> </div> <div class=\"cb-col cb-col-17 cb-rank-tbl pull-right\">859</div> </div>"
            ]
          },
          "metadata": {},
          "execution_count": 70
        }
      ]
    },
    {
      "cell_type": "code",
      "source": [
        "arr_inner[99]"
      ],
      "metadata": {
        "colab": {
          "base_uri": "https://localhost:8080/"
        },
        "id": "B3BkmfwWQ37J",
        "outputId": "07bbc3d3-9619-42c1-ef10-58787746c1af"
      },
      "execution_count": null,
      "outputs": [
        {
          "output_type": "execute_result",
          "data": {
            "text/plain": [
              "<div class=\"cb-col cb-col-16 cb-rank-tbl cb-font-16\">2</div>"
            ]
          },
          "metadata": {},
          "execution_count": 80
        }
      ]
    },
    {
      "cell_type": "code",
      "source": [
        "# #Actual Table start from here\n",
        "# arr_inner[89]\n",
        "# arr_inner[90]->position\n",
        "# arr_inner[91]->name\n",
        "# arr_inner[92]->image\n",
        "# arr_inner[93]->nothing\n",
        "# arr_inner[94]->image responsive\n",
        "# arr_inner[95]->country\n",
        "# arr_inner[96]->country(take this)\n",
        "# arr_inner[97]->rating\n",
        "\n",
        "# arr_inner[89]->position, name, country,rating(all there)\n",
        "\n",
        "# arr_inner[98] next player starts\n",
        "\n",
        "\n",
        "#start from [89] to 97 for 1 player(9 items)\n",
        "#all data are in 89(i.e. 1st item)"
      ],
      "metadata": {
        "id": "44nmunUiPWts"
      },
      "execution_count": null,
      "outputs": []
    },
    {
      "cell_type": "code",
      "source": [
        "#Take a sample and extract\n",
        "#take arr_inner[89]"
      ],
      "metadata": {
        "id": "AwElLXM0TE6u"
      },
      "execution_count": null,
      "outputs": []
    },
    {
      "cell_type": "code",
      "source": [
        "arr_inner[89]"
      ],
      "metadata": {
        "colab": {
          "base_uri": "https://localhost:8080/"
        },
        "id": "ITiWCRctTLEi",
        "outputId": "dcbfcfa9-2ab2-46c6-e0a4-6a9b081891a4"
      },
      "execution_count": null,
      "outputs": [
        {
          "output_type": "execute_result",
          "data": {
            "text/plain": [
              "<div class=\"cb-col cb-col-100 cb-font-14 cb-lst-itm text-center\"> <div class=\"cb-col cb-col-16 cb-rank-tbl cb-font-16\">1</div> <div class=\"cb-col cb-col-50 cb-lst-itm-sm text-left\"> <div class=\"cb-col cb-col-33\"> <div class=\"cb-col cb-col-50\"><span class=\"cb-ico\" style=\"position:absolute;\"></span>    –</div> <div class=\"cb-col cb-col-50\"><img alt=\"Kane Williamson\" class=\"img-responsive cb-rank-plyr-img\" src=\"https://static.cricbuzz.com/a/img/v1/50x50/i1/c351812/kane-williamson.jpg\" title=\"Kane Williamson\"/></div> </div> <div class=\"cb-col cb-col-67 cb-rank-plyr\"> <a class=\"text-hvr-underline text-bold cb-font-16\" href=\"/profiles/6326/kane-williamson\" title=\"Kane Williamson's Profile\">Kane Williamson</a> <div class=\"cb-font-12 text-gray\">NEW ZEALAND</div> </div> </div> <div class=\"cb-col cb-col-17 cb-rank-tbl pull-right\">859</div> </div>"
            ]
          },
          "metadata": {},
          "execution_count": 82
        }
      ]
    },
    {
      "cell_type": "code",
      "source": [
        "re.sub('^<div.*\">|</div>',\"\",str(arr_inner[90]))# works"
      ],
      "metadata": {
        "colab": {
          "base_uri": "https://localhost:8080/",
          "height": 36
        },
        "id": "i2xhE1FTTOZD",
        "outputId": "952b6d54-1bfa-4c71-f5ae-cbe613782548"
      },
      "execution_count": null,
      "outputs": [
        {
          "output_type": "execute_result",
          "data": {
            "text/plain": [
              "'1'"
            ],
            "application/vnd.google.colaboratory.intrinsic+json": {
              "type": "string"
            }
          },
          "metadata": {},
          "execution_count": 84
        }
      ]
    },
    {
      "cell_type": "code",
      "source": [
        "arr_inner[91]"
      ],
      "metadata": {
        "colab": {
          "base_uri": "https://localhost:8080/"
        },
        "id": "As2tk0vsTm57",
        "outputId": "9bd1d56f-1a33-4463-ab13-fef6c0c0b995"
      },
      "execution_count": null,
      "outputs": [
        {
          "output_type": "execute_result",
          "data": {
            "text/plain": [
              "<div class=\"cb-col cb-col-50 cb-lst-itm-sm text-left\"> <div class=\"cb-col cb-col-33\"> <div class=\"cb-col cb-col-50\"><span class=\"cb-ico\" style=\"position:absolute;\"></span>    –</div> <div class=\"cb-col cb-col-50\"><img alt=\"Kane Williamson\" class=\"img-responsive cb-rank-plyr-img\" src=\"https://static.cricbuzz.com/a/img/v1/50x50/i1/c351812/kane-williamson.jpg\" title=\"Kane Williamson\"/></div> </div> <div class=\"cb-col cb-col-67 cb-rank-plyr\"> <a class=\"text-hvr-underline text-bold cb-font-16\" href=\"/profiles/6326/kane-williamson\" title=\"Kane Williamson's Profile\">Kane Williamson</a> <div class=\"cb-font-12 text-gray\">NEW ZEALAND</div> </div> </div>"
            ]
          },
          "metadata": {},
          "execution_count": 85
        }
      ]
    },
    {
      "cell_type": "code",
      "source": [
        "re.sub('^<div.*\">|</div>',\"\",str(arr_inner[91])) # works"
      ],
      "metadata": {
        "colab": {
          "base_uri": "https://localhost:8080/",
          "height": 36
        },
        "id": "HveE5wSUUcyA",
        "outputId": "f20f7de8-5438-4cad-9961-d00f85165d75"
      },
      "execution_count": null,
      "outputs": [
        {
          "output_type": "execute_result",
          "data": {
            "text/plain": [
              "'NEW ZEALAND  '"
            ],
            "application/vnd.google.colaboratory.intrinsic+json": {
              "type": "string"
            }
          },
          "metadata": {},
          "execution_count": 86
        }
      ]
    },
    {
      "cell_type": "code",
      "source": [
        "arr_inner[657]"
      ],
      "metadata": {
        "colab": {
          "base_uri": "https://localhost:8080/"
        },
        "id": "9m_SBr0yUfzq",
        "outputId": "1ca7ab0a-2ddb-4774-baa9-8b8d22cb4a44"
      },
      "execution_count": null,
      "outputs": [
        {
          "output_type": "execute_result",
          "data": {
            "text/plain": [
              "<div class=\"cb-col cb-col-16 cb-rank-tbl cb-font-16\">66</div>"
            ]
          },
          "metadata": {},
          "execution_count": 109
        }
      ]
    },
    {
      "cell_type": "code",
      "source": [
        "re.sub('</a>.*',\"\",str(arr_inner[91]),flags=re.DOTALL) # works"
      ],
      "metadata": {
        "colab": {
          "base_uri": "https://localhost:8080/",
          "height": 145
        },
        "id": "XSnP9pAkUoa1",
        "outputId": "a7b1ad22-e939-496b-8b17-57df08287b5d"
      },
      "execution_count": null,
      "outputs": [
        {
          "output_type": "execute_result",
          "data": {
            "text/plain": [
              "'<div class=\"cb-col cb-col-50 cb-lst-itm-sm text-left\"> <div class=\"cb-col cb-col-33\"> <div class=\"cb-col cb-col-50\"><span class=\"cb-ico\" style=\"position:absolute;\"></span>\\xa0\\xa0\\xa0\\xa0–</div> <div class=\"cb-col cb-col-50\"><img alt=\"Kane Williamson\" class=\"img-responsive cb-rank-plyr-img\" src=\"https://static.cricbuzz.com/a/img/v1/50x50/i1/c351812/kane-williamson.jpg\" title=\"Kane Williamson\"/></div> </div> <div class=\"cb-col cb-col-67 cb-rank-plyr\"> <a class=\"text-hvr-underline text-bold cb-font-16\" href=\"/profiles/6326/kane-williamson\" title=\"Kane Williamson\\'s Profile\">Kane Williamson'"
            ],
            "application/vnd.google.colaboratory.intrinsic+json": {
              "type": "string"
            }
          },
          "metadata": {},
          "execution_count": 87
        }
      ]
    },
    {
      "cell_type": "code",
      "source": [
        "re.sub('^<div.*Profile\">|</a>.*',\"\",str(arr_inner[91])) # works"
      ],
      "metadata": {
        "colab": {
          "base_uri": "https://localhost:8080/",
          "height": 36
        },
        "id": "ZY-flW03VEM6",
        "outputId": "1e788351-b6a5-46c4-ceb1-141880a2471d"
      },
      "execution_count": null,
      "outputs": [
        {
          "output_type": "execute_result",
          "data": {
            "text/plain": [
              "'Kane Williamson'"
            ],
            "application/vnd.google.colaboratory.intrinsic+json": {
              "type": "string"
            }
          },
          "metadata": {},
          "execution_count": 90
        }
      ]
    },
    {
      "cell_type": "code",
      "source": [
        "re.sub('^<div.*\">|</div>.*',\"\",str(arr_inner[91])) # works"
      ],
      "metadata": {
        "colab": {
          "base_uri": "https://localhost:8080/",
          "height": 36
        },
        "id": "MPwggkTbcTn1",
        "outputId": "8b98b6b9-fe9e-41ac-ca82-262d5a13e4d5"
      },
      "execution_count": null,
      "outputs": [
        {
          "output_type": "execute_result",
          "data": {
            "text/plain": [
              "'NEW ZEALAND'"
            ],
            "application/vnd.google.colaboratory.intrinsic+json": {
              "type": "string"
            }
          },
          "metadata": {},
          "execution_count": 91
        }
      ]
    },
    {
      "cell_type": "code",
      "source": [
        "arr_inner[97]"
      ],
      "metadata": {
        "colab": {
          "base_uri": "https://localhost:8080/"
        },
        "id": "R1Hdvl0Eca7Y",
        "outputId": "c2a29da6-3f64-4e2f-b4f8-bf8701628db3"
      },
      "execution_count": null,
      "outputs": [
        {
          "output_type": "execute_result",
          "data": {
            "text/plain": [
              "<div class=\"cb-col cb-col-17 cb-rank-tbl pull-right\">859</div>"
            ]
          },
          "metadata": {},
          "execution_count": 93
        }
      ]
    },
    {
      "cell_type": "code",
      "source": [
        "re.sub('^<div.*\">|</div>',\"\",str(arr_inner[97])) # works"
      ],
      "metadata": {
        "colab": {
          "base_uri": "https://localhost:8080/",
          "height": 36
        },
        "id": "aEAPazkXdMv4",
        "outputId": "ee56e117-3ea7-4dc6-a814-fdc8fa03b393"
      },
      "execution_count": null,
      "outputs": [
        {
          "output_type": "execute_result",
          "data": {
            "text/plain": [
              "'859'"
            ],
            "application/vnd.google.colaboratory.intrinsic+json": {
              "type": "string"
            }
          },
          "metadata": {},
          "execution_count": 94
        }
      ]
    },
    {
      "cell_type": "code",
      "source": [
        "# #89 to 97\n",
        "# 90==position\n",
        "# 91==name, country\n",
        "# 97==rating"
      ],
      "metadata": {
        "id": "fmKG0ZMHdR5x"
      },
      "execution_count": null,
      "outputs": []
    },
    {
      "cell_type": "code",
      "source": [
        "Position=[]\n",
        "Name=[]\n",
        "Country=[]\n",
        "Rating=[]\n",
        "count=1\n",
        "a=arr_inner\n",
        "i=89\n",
        "while(i<=len(a)-9):\n",
        "  if count==1:\n",
        "    i+=1\n",
        "    count+=1\n",
        "    # print(\"done\")\n",
        "  elif count==2:\n",
        "    Position.append(re.sub('^<div.*\">|</div>',\"\",str(a[i])))\n",
        "    i+=1\n",
        "    count+=1\n",
        "  elif count==3:\n",
        "    Name.append(re.sub('^<div.*Profile\">|</a>.*',\"\",str(a[i])))\n",
        "    Country.append(re.sub('^<div.*\">|</div>',\"\",str(a[i])))\n",
        "    i+=6\n",
        "    count+=6\n",
        "  elif count==9:\n",
        "    Rating.append(re.sub('^<div.*\">|</div>',\"\",str(a[i])))\n",
        "    i+=1\n",
        "    count=1\n",
        "\n",
        "\n"
      ],
      "metadata": {
        "id": "oVGvryfrdoJo"
      },
      "execution_count": null,
      "outputs": []
    },
    {
      "cell_type": "code",
      "source": [
        "#Position[:92]"
      ],
      "metadata": {
        "id": "KNR7pgCHgLVF"
      },
      "execution_count": null,
      "outputs": []
    },
    {
      "cell_type": "code",
      "source": [
        "pd.DataFrame({'Position':Position[:92], 'Name':Name[:92], 'Country':Country[:92], 'Rating':Rating[:92]})"
      ],
      "metadata": {
        "colab": {
          "base_uri": "https://localhost:8080/",
          "height": 423
        },
        "id": "tdnbckchgP6h",
        "outputId": "e81148c8-0d90-4024-e736-899dc0fc2320"
      },
      "execution_count": null,
      "outputs": [
        {
          "output_type": "execute_result",
          "data": {
            "text/plain": [
              "   Position                Name        Country Rating\n",
              "0         1     Kane Williamson  NEW ZEALAND      859\n",
              "1         2            Joe Root      ENGLAND      824\n",
              "2         3          Babar Azam     PAKISTAN      768\n",
              "3         3      Daryl Mitchell  NEW ZEALAND      768\n",
              "4         5        Steven Smith    AUSTRALIA      757\n",
              "..      ...                 ...            ...    ...\n",
              "87       96      Alick Athanaze  WEST INDIES      346\n",
              "88       97       Paul Stirling      IRELAND      340\n",
              "89       98          Will Young  NEW ZEALAND      337\n",
              "90       99  Mehidy Hasan Miraz   BANGLADESH      330\n",
              "91      100      Shamarh Brooks  WEST INDIES      313\n",
              "\n",
              "[92 rows x 4 columns]"
            ],
            "text/html": [
              "\n",
              "  <div id=\"df-72ed4998-34c7-482b-aa2d-0d81084e66c7\" class=\"colab-df-container\">\n",
              "    <div>\n",
              "<style scoped>\n",
              "    .dataframe tbody tr th:only-of-type {\n",
              "        vertical-align: middle;\n",
              "    }\n",
              "\n",
              "    .dataframe tbody tr th {\n",
              "        vertical-align: top;\n",
              "    }\n",
              "\n",
              "    .dataframe thead th {\n",
              "        text-align: right;\n",
              "    }\n",
              "</style>\n",
              "<table border=\"1\" class=\"dataframe\">\n",
              "  <thead>\n",
              "    <tr style=\"text-align: right;\">\n",
              "      <th></th>\n",
              "      <th>Position</th>\n",
              "      <th>Name</th>\n",
              "      <th>Country</th>\n",
              "      <th>Rating</th>\n",
              "    </tr>\n",
              "  </thead>\n",
              "  <tbody>\n",
              "    <tr>\n",
              "      <th>0</th>\n",
              "      <td>1</td>\n",
              "      <td>Kane Williamson</td>\n",
              "      <td>NEW ZEALAND</td>\n",
              "      <td>859</td>\n",
              "    </tr>\n",
              "    <tr>\n",
              "      <th>1</th>\n",
              "      <td>2</td>\n",
              "      <td>Joe Root</td>\n",
              "      <td>ENGLAND</td>\n",
              "      <td>824</td>\n",
              "    </tr>\n",
              "    <tr>\n",
              "      <th>2</th>\n",
              "      <td>3</td>\n",
              "      <td>Babar Azam</td>\n",
              "      <td>PAKISTAN</td>\n",
              "      <td>768</td>\n",
              "    </tr>\n",
              "    <tr>\n",
              "      <th>3</th>\n",
              "      <td>3</td>\n",
              "      <td>Daryl Mitchell</td>\n",
              "      <td>NEW ZEALAND</td>\n",
              "      <td>768</td>\n",
              "    </tr>\n",
              "    <tr>\n",
              "      <th>4</th>\n",
              "      <td>5</td>\n",
              "      <td>Steven Smith</td>\n",
              "      <td>AUSTRALIA</td>\n",
              "      <td>757</td>\n",
              "    </tr>\n",
              "    <tr>\n",
              "      <th>...</th>\n",
              "      <td>...</td>\n",
              "      <td>...</td>\n",
              "      <td>...</td>\n",
              "      <td>...</td>\n",
              "    </tr>\n",
              "    <tr>\n",
              "      <th>87</th>\n",
              "      <td>96</td>\n",
              "      <td>Alick Athanaze</td>\n",
              "      <td>WEST INDIES</td>\n",
              "      <td>346</td>\n",
              "    </tr>\n",
              "    <tr>\n",
              "      <th>88</th>\n",
              "      <td>97</td>\n",
              "      <td>Paul Stirling</td>\n",
              "      <td>IRELAND</td>\n",
              "      <td>340</td>\n",
              "    </tr>\n",
              "    <tr>\n",
              "      <th>89</th>\n",
              "      <td>98</td>\n",
              "      <td>Will Young</td>\n",
              "      <td>NEW ZEALAND</td>\n",
              "      <td>337</td>\n",
              "    </tr>\n",
              "    <tr>\n",
              "      <th>90</th>\n",
              "      <td>99</td>\n",
              "      <td>Mehidy Hasan Miraz</td>\n",
              "      <td>BANGLADESH</td>\n",
              "      <td>330</td>\n",
              "    </tr>\n",
              "    <tr>\n",
              "      <th>91</th>\n",
              "      <td>100</td>\n",
              "      <td>Shamarh Brooks</td>\n",
              "      <td>WEST INDIES</td>\n",
              "      <td>313</td>\n",
              "    </tr>\n",
              "  </tbody>\n",
              "</table>\n",
              "<p>92 rows × 4 columns</p>\n",
              "</div>\n",
              "    <div class=\"colab-df-buttons\">\n",
              "\n",
              "  <div class=\"colab-df-container\">\n",
              "    <button class=\"colab-df-convert\" onclick=\"convertToInteractive('df-72ed4998-34c7-482b-aa2d-0d81084e66c7')\"\n",
              "            title=\"Convert this dataframe to an interactive table.\"\n",
              "            style=\"display:none;\">\n",
              "\n",
              "  <svg xmlns=\"http://www.w3.org/2000/svg\" height=\"24px\" viewBox=\"0 -960 960 960\">\n",
              "    <path d=\"M120-120v-720h720v720H120Zm60-500h600v-160H180v160Zm220 220h160v-160H400v160Zm0 220h160v-160H400v160ZM180-400h160v-160H180v160Zm440 0h160v-160H620v160ZM180-180h160v-160H180v160Zm440 0h160v-160H620v160Z\"/>\n",
              "  </svg>\n",
              "    </button>\n",
              "\n",
              "  <style>\n",
              "    .colab-df-container {\n",
              "      display:flex;\n",
              "      gap: 12px;\n",
              "    }\n",
              "\n",
              "    .colab-df-convert {\n",
              "      background-color: #E8F0FE;\n",
              "      border: none;\n",
              "      border-radius: 50%;\n",
              "      cursor: pointer;\n",
              "      display: none;\n",
              "      fill: #1967D2;\n",
              "      height: 32px;\n",
              "      padding: 0 0 0 0;\n",
              "      width: 32px;\n",
              "    }\n",
              "\n",
              "    .colab-df-convert:hover {\n",
              "      background-color: #E2EBFA;\n",
              "      box-shadow: 0px 1px 2px rgba(60, 64, 67, 0.3), 0px 1px 3px 1px rgba(60, 64, 67, 0.15);\n",
              "      fill: #174EA6;\n",
              "    }\n",
              "\n",
              "    .colab-df-buttons div {\n",
              "      margin-bottom: 4px;\n",
              "    }\n",
              "\n",
              "    [theme=dark] .colab-df-convert {\n",
              "      background-color: #3B4455;\n",
              "      fill: #D2E3FC;\n",
              "    }\n",
              "\n",
              "    [theme=dark] .colab-df-convert:hover {\n",
              "      background-color: #434B5C;\n",
              "      box-shadow: 0px 1px 3px 1px rgba(0, 0, 0, 0.15);\n",
              "      filter: drop-shadow(0px 1px 2px rgba(0, 0, 0, 0.3));\n",
              "      fill: #FFFFFF;\n",
              "    }\n",
              "  </style>\n",
              "\n",
              "    <script>\n",
              "      const buttonEl =\n",
              "        document.querySelector('#df-72ed4998-34c7-482b-aa2d-0d81084e66c7 button.colab-df-convert');\n",
              "      buttonEl.style.display =\n",
              "        google.colab.kernel.accessAllowed ? 'block' : 'none';\n",
              "\n",
              "      async function convertToInteractive(key) {\n",
              "        const element = document.querySelector('#df-72ed4998-34c7-482b-aa2d-0d81084e66c7');\n",
              "        const dataTable =\n",
              "          await google.colab.kernel.invokeFunction('convertToInteractive',\n",
              "                                                    [key], {});\n",
              "        if (!dataTable) return;\n",
              "\n",
              "        const docLinkHtml = 'Like what you see? Visit the ' +\n",
              "          '<a target=\"_blank\" href=https://colab.research.google.com/notebooks/data_table.ipynb>data table notebook</a>'\n",
              "          + ' to learn more about interactive tables.';\n",
              "        element.innerHTML = '';\n",
              "        dataTable['output_type'] = 'display_data';\n",
              "        await google.colab.output.renderOutput(dataTable, element);\n",
              "        const docLink = document.createElement('div');\n",
              "        docLink.innerHTML = docLinkHtml;\n",
              "        element.appendChild(docLink);\n",
              "      }\n",
              "    </script>\n",
              "  </div>\n",
              "\n",
              "\n",
              "<div id=\"df-e2d40d0e-d2f8-4b88-8cfa-89a023fdd8ab\">\n",
              "  <button class=\"colab-df-quickchart\" onclick=\"quickchart('df-e2d40d0e-d2f8-4b88-8cfa-89a023fdd8ab')\"\n",
              "            title=\"Suggest charts\"\n",
              "            style=\"display:none;\">\n",
              "\n",
              "<svg xmlns=\"http://www.w3.org/2000/svg\" height=\"24px\"viewBox=\"0 0 24 24\"\n",
              "     width=\"24px\">\n",
              "    <g>\n",
              "        <path d=\"M19 3H5c-1.1 0-2 .9-2 2v14c0 1.1.9 2 2 2h14c1.1 0 2-.9 2-2V5c0-1.1-.9-2-2-2zM9 17H7v-7h2v7zm4 0h-2V7h2v10zm4 0h-2v-4h2v4z\"/>\n",
              "    </g>\n",
              "</svg>\n",
              "  </button>\n",
              "\n",
              "<style>\n",
              "  .colab-df-quickchart {\n",
              "      --bg-color: #E8F0FE;\n",
              "      --fill-color: #1967D2;\n",
              "      --hover-bg-color: #E2EBFA;\n",
              "      --hover-fill-color: #174EA6;\n",
              "      --disabled-fill-color: #AAA;\n",
              "      --disabled-bg-color: #DDD;\n",
              "  }\n",
              "\n",
              "  [theme=dark] .colab-df-quickchart {\n",
              "      --bg-color: #3B4455;\n",
              "      --fill-color: #D2E3FC;\n",
              "      --hover-bg-color: #434B5C;\n",
              "      --hover-fill-color: #FFFFFF;\n",
              "      --disabled-bg-color: #3B4455;\n",
              "      --disabled-fill-color: #666;\n",
              "  }\n",
              "\n",
              "  .colab-df-quickchart {\n",
              "    background-color: var(--bg-color);\n",
              "    border: none;\n",
              "    border-radius: 50%;\n",
              "    cursor: pointer;\n",
              "    display: none;\n",
              "    fill: var(--fill-color);\n",
              "    height: 32px;\n",
              "    padding: 0;\n",
              "    width: 32px;\n",
              "  }\n",
              "\n",
              "  .colab-df-quickchart:hover {\n",
              "    background-color: var(--hover-bg-color);\n",
              "    box-shadow: 0 1px 2px rgba(60, 64, 67, 0.3), 0 1px 3px 1px rgba(60, 64, 67, 0.15);\n",
              "    fill: var(--button-hover-fill-color);\n",
              "  }\n",
              "\n",
              "  .colab-df-quickchart-complete:disabled,\n",
              "  .colab-df-quickchart-complete:disabled:hover {\n",
              "    background-color: var(--disabled-bg-color);\n",
              "    fill: var(--disabled-fill-color);\n",
              "    box-shadow: none;\n",
              "  }\n",
              "\n",
              "  .colab-df-spinner {\n",
              "    border: 2px solid var(--fill-color);\n",
              "    border-color: transparent;\n",
              "    border-bottom-color: var(--fill-color);\n",
              "    animation:\n",
              "      spin 1s steps(1) infinite;\n",
              "  }\n",
              "\n",
              "  @keyframes spin {\n",
              "    0% {\n",
              "      border-color: transparent;\n",
              "      border-bottom-color: var(--fill-color);\n",
              "      border-left-color: var(--fill-color);\n",
              "    }\n",
              "    20% {\n",
              "      border-color: transparent;\n",
              "      border-left-color: var(--fill-color);\n",
              "      border-top-color: var(--fill-color);\n",
              "    }\n",
              "    30% {\n",
              "      border-color: transparent;\n",
              "      border-left-color: var(--fill-color);\n",
              "      border-top-color: var(--fill-color);\n",
              "      border-right-color: var(--fill-color);\n",
              "    }\n",
              "    40% {\n",
              "      border-color: transparent;\n",
              "      border-right-color: var(--fill-color);\n",
              "      border-top-color: var(--fill-color);\n",
              "    }\n",
              "    60% {\n",
              "      border-color: transparent;\n",
              "      border-right-color: var(--fill-color);\n",
              "    }\n",
              "    80% {\n",
              "      border-color: transparent;\n",
              "      border-right-color: var(--fill-color);\n",
              "      border-bottom-color: var(--fill-color);\n",
              "    }\n",
              "    90% {\n",
              "      border-color: transparent;\n",
              "      border-bottom-color: var(--fill-color);\n",
              "    }\n",
              "  }\n",
              "</style>\n",
              "\n",
              "  <script>\n",
              "    async function quickchart(key) {\n",
              "      const quickchartButtonEl =\n",
              "        document.querySelector('#' + key + ' button');\n",
              "      quickchartButtonEl.disabled = true;  // To prevent multiple clicks.\n",
              "      quickchartButtonEl.classList.add('colab-df-spinner');\n",
              "      try {\n",
              "        const charts = await google.colab.kernel.invokeFunction(\n",
              "            'suggestCharts', [key], {});\n",
              "      } catch (error) {\n",
              "        console.error('Error during call to suggestCharts:', error);\n",
              "      }\n",
              "      quickchartButtonEl.classList.remove('colab-df-spinner');\n",
              "      quickchartButtonEl.classList.add('colab-df-quickchart-complete');\n",
              "    }\n",
              "    (() => {\n",
              "      let quickchartButtonEl =\n",
              "        document.querySelector('#df-e2d40d0e-d2f8-4b88-8cfa-89a023fdd8ab button');\n",
              "      quickchartButtonEl.style.display =\n",
              "        google.colab.kernel.accessAllowed ? 'block' : 'none';\n",
              "    })();\n",
              "  </script>\n",
              "</div>\n",
              "\n",
              "    </div>\n",
              "  </div>\n"
            ],
            "application/vnd.google.colaboratory.intrinsic+json": {
              "type": "dataframe",
              "summary": "{\n  \"name\": \"pd\",\n  \"rows\": 92,\n  \"fields\": [\n    {\n      \"column\": \"Position\",\n      \"properties\": {\n        \"dtype\": \"string\",\n        \"num_unique_values\": 83,\n        \"samples\": [\n          \"36\",\n          \"1\",\n          \"27\"\n        ],\n        \"semantic_type\": \"\",\n        \"description\": \"\"\n      }\n    },\n    {\n      \"column\": \"Name\",\n      \"properties\": {\n        \"dtype\": \"string\",\n        \"num_unique_values\": 92,\n        \"samples\": [\n          \"Ravindra Jadeja\",\n          \"Jonny Bairstow\",\n          \"Lorcan Tucker\"\n        ],\n        \"semantic_type\": \"\",\n        \"description\": \"\"\n      }\n    },\n    {\n      \"column\": \"Country\",\n      \"properties\": {\n        \"dtype\": \"category\",\n        \"num_unique_values\": 12,\n        \"samples\": [\n          \"AFGHANISTAN  \",\n          \"ZIMBABWE  \",\n          \"NEW ZEALAND  \"\n        ],\n        \"semantic_type\": \"\",\n        \"description\": \"\"\n      }\n    },\n    {\n      \"column\": \"Rating\",\n      \"properties\": {\n        \"dtype\": \"string\",\n        \"num_unique_values\": 83,\n        \"samples\": [\n          \"587\",\n          \"859\",\n          \"640\"\n        ],\n        \"semantic_type\": \"\",\n        \"description\": \"\"\n      }\n    }\n  ]\n}"
            }
          },
          "metadata": {},
          "execution_count": 114
        }
      ]
    },
    {
      "cell_type": "code",
      "source": [
        "df= pd.DataFrame({'Position':Position[:92], 'Name':Name[:92], 'Country':Country[:92], 'Rating':Rating[:92]})"
      ],
      "metadata": {
        "id": "sU-qOrBejdEp"
      },
      "execution_count": null,
      "outputs": []
    },
    {
      "cell_type": "code",
      "source": [
        "df['Position']=pd.to_numeric(df['Position'])"
      ],
      "metadata": {
        "id": "wjo8nfLLvNKa"
      },
      "execution_count": null,
      "outputs": []
    },
    {
      "cell_type": "code",
      "source": [
        "df['Rating']=pd.to_numeric(df['Rating'])"
      ],
      "metadata": {
        "id": "WWHDsPp2vWxr"
      },
      "execution_count": null,
      "outputs": []
    },
    {
      "cell_type": "code",
      "source": [
        "df.head()"
      ],
      "metadata": {
        "colab": {
          "base_uri": "https://localhost:8080/",
          "height": 206
        },
        "id": "vnAOnnZqvcJy",
        "outputId": "0080b65c-d62b-43d1-afd2-86e5c2b0d153"
      },
      "execution_count": null,
      "outputs": [
        {
          "output_type": "execute_result",
          "data": {
            "text/plain": [
              "   Position             Name        Country  Rating\n",
              "0         1  Kane Williamson  NEW ZEALAND       859\n",
              "1         2         Joe Root      ENGLAND       824\n",
              "2         3       Babar Azam     PAKISTAN       768\n",
              "3         3   Daryl Mitchell  NEW ZEALAND       768\n",
              "4         5     Steven Smith    AUSTRALIA       757"
            ],
            "text/html": [
              "\n",
              "  <div id=\"df-d1bb93db-ac0c-4154-9d47-dc9b13250262\" class=\"colab-df-container\">\n",
              "    <div>\n",
              "<style scoped>\n",
              "    .dataframe tbody tr th:only-of-type {\n",
              "        vertical-align: middle;\n",
              "    }\n",
              "\n",
              "    .dataframe tbody tr th {\n",
              "        vertical-align: top;\n",
              "    }\n",
              "\n",
              "    .dataframe thead th {\n",
              "        text-align: right;\n",
              "    }\n",
              "</style>\n",
              "<table border=\"1\" class=\"dataframe\">\n",
              "  <thead>\n",
              "    <tr style=\"text-align: right;\">\n",
              "      <th></th>\n",
              "      <th>Position</th>\n",
              "      <th>Name</th>\n",
              "      <th>Country</th>\n",
              "      <th>Rating</th>\n",
              "    </tr>\n",
              "  </thead>\n",
              "  <tbody>\n",
              "    <tr>\n",
              "      <th>0</th>\n",
              "      <td>1</td>\n",
              "      <td>Kane Williamson</td>\n",
              "      <td>NEW ZEALAND</td>\n",
              "      <td>859</td>\n",
              "    </tr>\n",
              "    <tr>\n",
              "      <th>1</th>\n",
              "      <td>2</td>\n",
              "      <td>Joe Root</td>\n",
              "      <td>ENGLAND</td>\n",
              "      <td>824</td>\n",
              "    </tr>\n",
              "    <tr>\n",
              "      <th>2</th>\n",
              "      <td>3</td>\n",
              "      <td>Babar Azam</td>\n",
              "      <td>PAKISTAN</td>\n",
              "      <td>768</td>\n",
              "    </tr>\n",
              "    <tr>\n",
              "      <th>3</th>\n",
              "      <td>3</td>\n",
              "      <td>Daryl Mitchell</td>\n",
              "      <td>NEW ZEALAND</td>\n",
              "      <td>768</td>\n",
              "    </tr>\n",
              "    <tr>\n",
              "      <th>4</th>\n",
              "      <td>5</td>\n",
              "      <td>Steven Smith</td>\n",
              "      <td>AUSTRALIA</td>\n",
              "      <td>757</td>\n",
              "    </tr>\n",
              "  </tbody>\n",
              "</table>\n",
              "</div>\n",
              "    <div class=\"colab-df-buttons\">\n",
              "\n",
              "  <div class=\"colab-df-container\">\n",
              "    <button class=\"colab-df-convert\" onclick=\"convertToInteractive('df-d1bb93db-ac0c-4154-9d47-dc9b13250262')\"\n",
              "            title=\"Convert this dataframe to an interactive table.\"\n",
              "            style=\"display:none;\">\n",
              "\n",
              "  <svg xmlns=\"http://www.w3.org/2000/svg\" height=\"24px\" viewBox=\"0 -960 960 960\">\n",
              "    <path d=\"M120-120v-720h720v720H120Zm60-500h600v-160H180v160Zm220 220h160v-160H400v160Zm0 220h160v-160H400v160ZM180-400h160v-160H180v160Zm440 0h160v-160H620v160ZM180-180h160v-160H180v160Zm440 0h160v-160H620v160Z\"/>\n",
              "  </svg>\n",
              "    </button>\n",
              "\n",
              "  <style>\n",
              "    .colab-df-container {\n",
              "      display:flex;\n",
              "      gap: 12px;\n",
              "    }\n",
              "\n",
              "    .colab-df-convert {\n",
              "      background-color: #E8F0FE;\n",
              "      border: none;\n",
              "      border-radius: 50%;\n",
              "      cursor: pointer;\n",
              "      display: none;\n",
              "      fill: #1967D2;\n",
              "      height: 32px;\n",
              "      padding: 0 0 0 0;\n",
              "      width: 32px;\n",
              "    }\n",
              "\n",
              "    .colab-df-convert:hover {\n",
              "      background-color: #E2EBFA;\n",
              "      box-shadow: 0px 1px 2px rgba(60, 64, 67, 0.3), 0px 1px 3px 1px rgba(60, 64, 67, 0.15);\n",
              "      fill: #174EA6;\n",
              "    }\n",
              "\n",
              "    .colab-df-buttons div {\n",
              "      margin-bottom: 4px;\n",
              "    }\n",
              "\n",
              "    [theme=dark] .colab-df-convert {\n",
              "      background-color: #3B4455;\n",
              "      fill: #D2E3FC;\n",
              "    }\n",
              "\n",
              "    [theme=dark] .colab-df-convert:hover {\n",
              "      background-color: #434B5C;\n",
              "      box-shadow: 0px 1px 3px 1px rgba(0, 0, 0, 0.15);\n",
              "      filter: drop-shadow(0px 1px 2px rgba(0, 0, 0, 0.3));\n",
              "      fill: #FFFFFF;\n",
              "    }\n",
              "  </style>\n",
              "\n",
              "    <script>\n",
              "      const buttonEl =\n",
              "        document.querySelector('#df-d1bb93db-ac0c-4154-9d47-dc9b13250262 button.colab-df-convert');\n",
              "      buttonEl.style.display =\n",
              "        google.colab.kernel.accessAllowed ? 'block' : 'none';\n",
              "\n",
              "      async function convertToInteractive(key) {\n",
              "        const element = document.querySelector('#df-d1bb93db-ac0c-4154-9d47-dc9b13250262');\n",
              "        const dataTable =\n",
              "          await google.colab.kernel.invokeFunction('convertToInteractive',\n",
              "                                                    [key], {});\n",
              "        if (!dataTable) return;\n",
              "\n",
              "        const docLinkHtml = 'Like what you see? Visit the ' +\n",
              "          '<a target=\"_blank\" href=https://colab.research.google.com/notebooks/data_table.ipynb>data table notebook</a>'\n",
              "          + ' to learn more about interactive tables.';\n",
              "        element.innerHTML = '';\n",
              "        dataTable['output_type'] = 'display_data';\n",
              "        await google.colab.output.renderOutput(dataTable, element);\n",
              "        const docLink = document.createElement('div');\n",
              "        docLink.innerHTML = docLinkHtml;\n",
              "        element.appendChild(docLink);\n",
              "      }\n",
              "    </script>\n",
              "  </div>\n",
              "\n",
              "\n",
              "<div id=\"df-ef8185d1-39d3-4eab-835f-a96bf24b7fb5\">\n",
              "  <button class=\"colab-df-quickchart\" onclick=\"quickchart('df-ef8185d1-39d3-4eab-835f-a96bf24b7fb5')\"\n",
              "            title=\"Suggest charts\"\n",
              "            style=\"display:none;\">\n",
              "\n",
              "<svg xmlns=\"http://www.w3.org/2000/svg\" height=\"24px\"viewBox=\"0 0 24 24\"\n",
              "     width=\"24px\">\n",
              "    <g>\n",
              "        <path d=\"M19 3H5c-1.1 0-2 .9-2 2v14c0 1.1.9 2 2 2h14c1.1 0 2-.9 2-2V5c0-1.1-.9-2-2-2zM9 17H7v-7h2v7zm4 0h-2V7h2v10zm4 0h-2v-4h2v4z\"/>\n",
              "    </g>\n",
              "</svg>\n",
              "  </button>\n",
              "\n",
              "<style>\n",
              "  .colab-df-quickchart {\n",
              "      --bg-color: #E8F0FE;\n",
              "      --fill-color: #1967D2;\n",
              "      --hover-bg-color: #E2EBFA;\n",
              "      --hover-fill-color: #174EA6;\n",
              "      --disabled-fill-color: #AAA;\n",
              "      --disabled-bg-color: #DDD;\n",
              "  }\n",
              "\n",
              "  [theme=dark] .colab-df-quickchart {\n",
              "      --bg-color: #3B4455;\n",
              "      --fill-color: #D2E3FC;\n",
              "      --hover-bg-color: #434B5C;\n",
              "      --hover-fill-color: #FFFFFF;\n",
              "      --disabled-bg-color: #3B4455;\n",
              "      --disabled-fill-color: #666;\n",
              "  }\n",
              "\n",
              "  .colab-df-quickchart {\n",
              "    background-color: var(--bg-color);\n",
              "    border: none;\n",
              "    border-radius: 50%;\n",
              "    cursor: pointer;\n",
              "    display: none;\n",
              "    fill: var(--fill-color);\n",
              "    height: 32px;\n",
              "    padding: 0;\n",
              "    width: 32px;\n",
              "  }\n",
              "\n",
              "  .colab-df-quickchart:hover {\n",
              "    background-color: var(--hover-bg-color);\n",
              "    box-shadow: 0 1px 2px rgba(60, 64, 67, 0.3), 0 1px 3px 1px rgba(60, 64, 67, 0.15);\n",
              "    fill: var(--button-hover-fill-color);\n",
              "  }\n",
              "\n",
              "  .colab-df-quickchart-complete:disabled,\n",
              "  .colab-df-quickchart-complete:disabled:hover {\n",
              "    background-color: var(--disabled-bg-color);\n",
              "    fill: var(--disabled-fill-color);\n",
              "    box-shadow: none;\n",
              "  }\n",
              "\n",
              "  .colab-df-spinner {\n",
              "    border: 2px solid var(--fill-color);\n",
              "    border-color: transparent;\n",
              "    border-bottom-color: var(--fill-color);\n",
              "    animation:\n",
              "      spin 1s steps(1) infinite;\n",
              "  }\n",
              "\n",
              "  @keyframes spin {\n",
              "    0% {\n",
              "      border-color: transparent;\n",
              "      border-bottom-color: var(--fill-color);\n",
              "      border-left-color: var(--fill-color);\n",
              "    }\n",
              "    20% {\n",
              "      border-color: transparent;\n",
              "      border-left-color: var(--fill-color);\n",
              "      border-top-color: var(--fill-color);\n",
              "    }\n",
              "    30% {\n",
              "      border-color: transparent;\n",
              "      border-left-color: var(--fill-color);\n",
              "      border-top-color: var(--fill-color);\n",
              "      border-right-color: var(--fill-color);\n",
              "    }\n",
              "    40% {\n",
              "      border-color: transparent;\n",
              "      border-right-color: var(--fill-color);\n",
              "      border-top-color: var(--fill-color);\n",
              "    }\n",
              "    60% {\n",
              "      border-color: transparent;\n",
              "      border-right-color: var(--fill-color);\n",
              "    }\n",
              "    80% {\n",
              "      border-color: transparent;\n",
              "      border-right-color: var(--fill-color);\n",
              "      border-bottom-color: var(--fill-color);\n",
              "    }\n",
              "    90% {\n",
              "      border-color: transparent;\n",
              "      border-bottom-color: var(--fill-color);\n",
              "    }\n",
              "  }\n",
              "</style>\n",
              "\n",
              "  <script>\n",
              "    async function quickchart(key) {\n",
              "      const quickchartButtonEl =\n",
              "        document.querySelector('#' + key + ' button');\n",
              "      quickchartButtonEl.disabled = true;  // To prevent multiple clicks.\n",
              "      quickchartButtonEl.classList.add('colab-df-spinner');\n",
              "      try {\n",
              "        const charts = await google.colab.kernel.invokeFunction(\n",
              "            'suggestCharts', [key], {});\n",
              "      } catch (error) {\n",
              "        console.error('Error during call to suggestCharts:', error);\n",
              "      }\n",
              "      quickchartButtonEl.classList.remove('colab-df-spinner');\n",
              "      quickchartButtonEl.classList.add('colab-df-quickchart-complete');\n",
              "    }\n",
              "    (() => {\n",
              "      let quickchartButtonEl =\n",
              "        document.querySelector('#df-ef8185d1-39d3-4eab-835f-a96bf24b7fb5 button');\n",
              "      quickchartButtonEl.style.display =\n",
              "        google.colab.kernel.accessAllowed ? 'block' : 'none';\n",
              "    })();\n",
              "  </script>\n",
              "</div>\n",
              "\n",
              "    </div>\n",
              "  </div>\n"
            ],
            "application/vnd.google.colaboratory.intrinsic+json": {
              "type": "dataframe",
              "variable_name": "df",
              "summary": "{\n  \"name\": \"df\",\n  \"rows\": 92,\n  \"fields\": [\n    {\n      \"column\": \"Position\",\n      \"properties\": {\n        \"dtype\": \"number\",\n        \"std\": 28,\n        \"min\": 1,\n        \"max\": 100,\n        \"num_unique_values\": 83,\n        \"samples\": [\n          36,\n          1,\n          27\n        ],\n        \"semantic_type\": \"\",\n        \"description\": \"\"\n      }\n    },\n    {\n      \"column\": \"Name\",\n      \"properties\": {\n        \"dtype\": \"string\",\n        \"num_unique_values\": 92,\n        \"samples\": [\n          \"Ravindra Jadeja\",\n          \"Jonny Bairstow\",\n          \"Lorcan Tucker\"\n        ],\n        \"semantic_type\": \"\",\n        \"description\": \"\"\n      }\n    },\n    {\n      \"column\": \"Country\",\n      \"properties\": {\n        \"dtype\": \"category\",\n        \"num_unique_values\": 12,\n        \"samples\": [\n          \"AFGHANISTAN  \",\n          \"ZIMBABWE  \",\n          \"NEW ZEALAND  \"\n        ],\n        \"semantic_type\": \"\",\n        \"description\": \"\"\n      }\n    },\n    {\n      \"column\": \"Rating\",\n      \"properties\": {\n        \"dtype\": \"number\",\n        \"std\": 132,\n        \"min\": 313,\n        \"max\": 859,\n        \"num_unique_values\": 83,\n        \"samples\": [\n          587,\n          859,\n          640\n        ],\n        \"semantic_type\": \"\",\n        \"description\": \"\"\n      }\n    }\n  ]\n}"
            }
          },
          "metadata": {},
          "execution_count": 118
        }
      ]
    },
    {
      "cell_type": "code",
      "source": [
        "df.info()"
      ],
      "metadata": {
        "colab": {
          "base_uri": "https://localhost:8080/"
        },
        "id": "8xUi6VwGvl6I",
        "outputId": "f7396186-0d18-4681-e8b9-cac3e7b775ea"
      },
      "execution_count": null,
      "outputs": [
        {
          "output_type": "stream",
          "name": "stdout",
          "text": [
            "<class 'pandas.core.frame.DataFrame'>\n",
            "RangeIndex: 92 entries, 0 to 91\n",
            "Data columns (total 4 columns):\n",
            " #   Column    Non-Null Count  Dtype \n",
            "---  ------    --------------  ----- \n",
            " 0   Position  92 non-null     int64 \n",
            " 1   Name      92 non-null     object\n",
            " 2   Country   92 non-null     object\n",
            " 3   Rating    92 non-null     int64 \n",
            "dtypes: int64(2), object(2)\n",
            "memory usage: 3.0+ KB\n"
          ]
        }
      ]
    },
    {
      "cell_type": "code",
      "source": [],
      "metadata": {
        "id": "dMvvnKfiwLI4"
      },
      "execution_count": null,
      "outputs": []
    }
  ]
}